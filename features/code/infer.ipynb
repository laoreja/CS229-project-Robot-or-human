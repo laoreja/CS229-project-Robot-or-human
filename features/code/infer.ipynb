{
 "cells": [
  {
   "cell_type": "code",
   "execution_count": 1,
   "metadata": {
    "collapsed": true
   },
   "outputs": [],
   "source": [
    "import pandas as pd\n",
    "import numpy as np\n",
    "from constants import *\n",
    "from os.path import join\n",
    "\n",
    "data_dir = '../../data'\n",
    "feature_dir = '..'\n",
    "bids = pd.read_csv(join(data_dir, 'bids.csv'))\n",
    "bids_g_bidder = bids.groupby('bidder_id')\n",
    "bids_g_bidder_auction = bids.groupby(['bidder_id', 'auction'])"
   ]
  },
  {
   "cell_type": "code",
   "execution_count": 2,
   "metadata": {},
   "outputs": [
    {
     "name": "stdout",
     "output_type": "stream",
     "text": [
      "(7351,)\n"
     ]
    }
   ],
   "source": [
    "print bids['device'].unique().shape"
   ]
  },
  {
   "cell_type": "code",
   "execution_count": 6,
   "metadata": {},
   "outputs": [
    {
     "name": "stdout",
     "output_type": "stream",
     "text": [
      "day 0 938192\n",
      "day 1 912598\n",
      "day 2 1021227\n",
      "day 3 0\n",
      "day 4 0\n",
      "day 5 0\n",
      "day 6 0\n",
      "day 7 0\n",
      "day 8 0\n",
      "day 9 0\n",
      "day 10 0\n",
      "day 11 0\n",
      "day 12 0\n",
      "day 13 0\n",
      "day 14 800696\n",
      "day 15 805851\n",
      "day 16 826583\n",
      "day 17 0\n",
      "day 18 0\n",
      "day 19 0\n",
      "day 20 0\n",
      "day 21 0\n",
      "day 22 0\n",
      "day 23 0\n",
      "day 24 0\n",
      "day 25 0\n",
      "day 26 0\n",
      "day 27 0\n",
      "day 28 770022\n",
      "day 29 772038\n",
      "day 30 809127\n",
      "31\n"
     ]
    }
   ],
   "source": [
    "one_day = 4547368124071.8799\n",
    "startt = 9631916820392676.0\n",
    "\n",
    "time_intervals = [startt + one_day * i for i in xrange(32)]\n",
    "day_total_cnt = []\n",
    "\n",
    "for i in xrange(len(time_intervals)-1):\n",
    "    day_total_cnt.append(np.count_nonzero(np.logical_and(bids['time'] >= time_intervals[i], bids['time'] < time_intervals[i+1])))\n",
    "    print 'day', i, day_total_cnt[-1]\n",
    "    \n",
    "print len(day_total_cnt)\n",
    "    "
   ]
  },
  {
   "cell_type": "code",
   "execution_count": 10,
   "metadata": {},
   "outputs": [
    {
     "ename": "NameError",
     "evalue": "name 'feature_dir' is not defined",
     "output_type": "error",
     "traceback": [
      "\u001b[0;31m---------------------------------------------------------------------------\u001b[0m",
      "\u001b[0;31mNameError\u001b[0m                                 Traceback (most recent call last)",
      "\u001b[0;32m<ipython-input-10-542616d9e4a2>\u001b[0m in \u001b[0;36m<module>\u001b[0;34m()\u001b[0m\n\u001b[1;32m     14\u001b[0m \u001b[0;34m\u001b[0m\u001b[0m\n\u001b[1;32m     15\u001b[0m \u001b[0mhalf_hr_cnt_feat_per_bidder\u001b[0m \u001b[0;34m=\u001b[0m \u001b[0mbids_g_bidder\u001b[0m\u001b[0;34m.\u001b[0m\u001b[0mapply\u001b[0m\u001b[0;34m(\u001b[0m\u001b[0mgenerate_half_hr_cnt_features_per_bidder\u001b[0m\u001b[0;34m)\u001b[0m\u001b[0;34m\u001b[0m\u001b[0m\n\u001b[0;32m---> 16\u001b[0;31m \u001b[0mhalf_hr_cnt_feat_per_bidder\u001b[0m\u001b[0;34m.\u001b[0m\u001b[0mto_csv\u001b[0m\u001b[0;34m(\u001b[0m\u001b[0mjoin\u001b[0m\u001b[0;34m(\u001b[0m\u001b[0mfeature_dir\u001b[0m\u001b[0;34m,\u001b[0m \u001b[0;34m'half_hr_cnt_feat_per_bidder.csv'\u001b[0m\u001b[0;34m)\u001b[0m\u001b[0;34m)\u001b[0m\u001b[0;34m\u001b[0m\u001b[0m\n\u001b[0m\u001b[1;32m     17\u001b[0m \u001b[0;32mprint\u001b[0m \u001b[0mhalf_hr_cnt_feat_per_bidder\u001b[0m\u001b[0;34m.\u001b[0m\u001b[0minfo\u001b[0m\u001b[0;34m(\u001b[0m\u001b[0;34m)\u001b[0m\u001b[0;34m\u001b[0m\u001b[0m\n\u001b[1;32m     18\u001b[0m \u001b[0;34m\u001b[0m\u001b[0m\n",
      "\u001b[0;31mNameError\u001b[0m: name 'feature_dir' is not defined"
     ]
    }
   ],
   "source": [
    "def generate_half_hr_cnt_features_per_bidder(group):\n",
    "    half_hr_bds = np.linspace(0.0, one_day, num=49)\n",
    "    feature = dict()\n",
    "    for day, day_cnt in enumerate(day_total_cnt):\n",
    "        if day_cnt > 0:\n",
    "            for half_hr_idx in xrange(len(half_hr_bds)-1):\n",
    "                feature['day_'+str(day)+'_half_hr_'+str(half_hr_idx)] = np.count_nonzero(np.logical_and(group['time'] >= time_intervals[day] + half_hr_bds[half_hr_idx], group['time'] < time_intervals[day] + half_hr_bds[half_hr_idx+1]))\n",
    "    \n",
    "#     try:\n",
    "#         assert group.shape[0] == sum(feature.values())\n",
    "#     except:\n",
    "#         print group.shape[0], sum(feature.values())\n",
    "    return pd.Series(feature)\n",
    "    \n",
    "half_hr_cnt_feat_per_bidder = bids_g_bidder.apply(generate_half_hr_cnt_features_per_bidder)\n",
    "half_hr_cnt_feat_per_bidder.to_csv(join(feature_dir, 'half_hr_cnt_feat_per_bidder.csv'))\n",
    "print half_hr_cnt_feat_per_bidder.info()\n",
    "\n"
   ]
  },
  {
   "cell_type": "code",
   "execution_count": 12,
   "metadata": {},
   "outputs": [
    {
     "name": "stdout",
     "output_type": "stream",
     "text": [
      "<class 'pandas.core.frame.DataFrame'>\n",
      "Index: 6614 entries, 001068c415025a009fee375a12cff4fcnht8y to fff2c070d8200e0a09150bd81452ce29ngcnv\n",
      "Columns: 432 entries, day_0_half_hr_0 to day_30_half_hr_9\n",
      "dtypes: int64(432)\n",
      "memory usage: 21.8+ MB\n",
      "None\n"
     ]
    }
   ],
   "source": [
    "feature_dir = '..'\n",
    "print half_hr_cnt_feat_per_bidder.info()\n",
    "half_hr_cnt_feat_per_bidder.to_csv(join(feature_dir, 'half_hr_cnt_feat_per_bidder.csv'))"
   ]
  },
  {
   "cell_type": "code",
   "execution_count": 31,
   "metadata": {},
   "outputs": [
    {
     "name": "stdout",
     "output_type": "stream",
     "text": [
      "Index([u'001068c415025a009fee375a12cff4fcnht8y',\n",
      "       u'002d229ffb247009810828f648afc2ef593rb',\n",
      "       u'0030a2dd87ad2733e0873062e4f83954mkj86',\n",
      "       u'003180b29c6a5f8f1d84a6b7b6f7be57tjj1o',\n",
      "       u'00486a11dff552c4bd7696265724ff81yeo9v',\n",
      "       u'0051aef3fdeacdadba664b9b3b07e04e4coc6',\n",
      "       u'0053b78cde37c4384a20d2da9aa4272aym4pb',\n",
      "       u'0061edfc5b07ff3d70d693883a38d370oy4fs',\n",
      "       u'00862324eb508ca5202b6d4e5f1a80fc3t3lp',\n",
      "       u'009479273c288b1dd096dc3087653499lrx3c',\n",
      "       ...\n",
      "       u'ff8a8bcb0ecfd4c8881ab22abeba75a9u4q95',\n",
      "       u'ff92ea4abd33ed38601287f0e1d6726dmgx1f',\n",
      "       u'ffa7b0b0f144b1594131d99e50c17a0bwbym3',\n",
      "       u'ffacbed056cbfaa60c1fcf51f0d381bddr3ly',\n",
      "       u'ffaf0a972a6dcb3910fd6b16045781e2ava5y',\n",
      "       u'ffbc0fdfbf19a8a9116b68714138f2902cc13',\n",
      "       u'ffc4e2dd2cc08249f299cab46ecbfacfobmr3',\n",
      "       u'ffd29eb307a4c54610dd2d3d212bf3bagmmpl',\n",
      "       u'ffd62646d600b759a985d45918bd6f0431vmz',\n",
      "       u'fff2c070d8200e0a09150bd81452ce29ngcnv'],\n",
      "      dtype='object', name=u'bidder_id', length=6614)\n"
     ]
    }
   ],
   "source": [
    "print half_hr_cnt_feat_per_bidder.index"
   ]
  },
  {
   "cell_type": "code",
   "execution_count": 32,
   "metadata": {},
   "outputs": [
    {
     "name": "stdout",
     "output_type": "stream",
     "text": [
      "<class 'pandas.core.frame.DataFrame'>\n",
      "RangeIndex: 6614 entries, 0 to 6613\n",
      "Data columns (total 29 columns):\n",
      "auctions_won_cnt         6614 non-null float64\n",
      "price_max                6614 non-null float64\n",
      "price_mean               6614 non-null float64\n",
      "price_median             6614 non-null float64\n",
      "price_min                6614 non-null float64\n",
      "price_std                6614 non-null float64\n",
      "tdiff_max                6614 non-null float64\n",
      "tdiff_mean               6614 non-null float64\n",
      "tdiff_median             6614 non-null float64\n",
      "tdiff_min                6614 non-null float64\n",
      "tdiff_std                6614 non-null float64\n",
      "tdiff_zeros              6614 non-null float64\n",
      "response_max             6614 non-null float64\n",
      "response_mean            6614 non-null float64\n",
      "response_median          6614 non-null float64\n",
      "response_min             6614 non-null float64\n",
      "response_std             6614 non-null float64\n",
      "auction_cnt              6614 non-null float64\n",
      "bids_cnt                 6614 non-null float64\n",
      "country_cnt              6614 non-null float64\n",
      "device_cnt               6614 non-null float64\n",
      "ip_cnt                   6614 non-null float64\n",
      "mean_bids_per_auction    6614 non-null float64\n",
      "url_cnt                  6614 non-null float64\n",
      "tdiff_ip                 6614 non-null float64\n",
      "ip_entropy               6614 non-null float64\n",
      "url_entropy              6614 non-null float64\n",
      "bidder_id                6614 non-null object\n",
      "country_cnt_mean_auc     6614 non-null float64\n",
      "dtypes: float64(28), object(1)\n",
      "memory usage: 1.5+ MB\n",
      "None\n"
     ]
    }
   ],
   "source": [
    "old_feat = pd.read_csv('../new_all_feat.csv')\n",
    "old_feat.drop('Unnamed: 0', axis=1, inplace=True)\n",
    "print old_feat.info()"
   ]
  },
  {
   "cell_type": "code",
   "execution_count": 33,
   "metadata": {},
   "outputs": [
    {
     "name": "stdout",
     "output_type": "stream",
     "text": [
      "<class 'pandas.core.frame.DataFrame'>\n",
      "Int64Index: 6614 entries, 0 to 6613\n",
      "Columns: 461 entries, auctions_won_cnt to day_30_half_hr_9\n",
      "dtypes: float64(28), int64(432), object(1)\n",
      "memory usage: 23.3+ MB\n",
      "None\n"
     ]
    }
   ],
   "source": [
    "new_feat = pd.merge(old_feat, half_hr_cnt_feat_per_bidder, left_on='bidder_id', right_index=True)\n",
    "print new_feat.info()"
   ]
  },
  {
   "cell_type": "code",
   "execution_count": 34,
   "metadata": {},
   "outputs": [
    {
     "name": "stdout",
     "output_type": "stream",
     "text": [
      "<class 'pandas.core.frame.DataFrame'>\n",
      "RangeIndex: 6614 entries, 0 to 6613\n",
      "Columns: 211 entries, bidder_id to zz\n",
      "dtypes: float64(210), object(1)\n",
      "memory usage: 10.6+ MB\n",
      "None\n"
     ]
    }
   ],
   "source": [
    "country_category = pd.read_csv('../country_category_feat_per_bidder.csv')\n",
    "print country_category.info()"
   ]
  },
  {
   "cell_type": "code",
   "execution_count": 35,
   "metadata": {},
   "outputs": [
    {
     "name": "stdout",
     "output_type": "stream",
     "text": [
      "<class 'pandas.core.frame.DataFrame'>\n",
      "Int64Index: 6614 entries, 0 to 6613\n",
      "Columns: 671 entries, auctions_won_cnt to zz\n",
      "dtypes: float64(238), int64(432), object(1)\n",
      "memory usage: 33.9+ MB\n",
      "None\n"
     ]
    }
   ],
   "source": [
    "new_feat = pd.merge(new_feat, country_category, left_on='bidder_id', right_on='bidder_id')\n",
    "print new_feat.info()"
   ]
  },
  {
   "cell_type": "code",
   "execution_count": 37,
   "metadata": {
    "collapsed": true
   },
   "outputs": [],
   "source": [
    "new_feat.to_csv('../new_feat_for_dnn.csv')"
   ]
  },
  {
   "cell_type": "code",
   "execution_count": 36,
   "metadata": {},
   "outputs": [
    {
     "name": "stdout",
     "output_type": "stream",
     "text": [
      "29 10 200\n",
      "['auctions_won_cnt', 'price_max', 'price_mean', 'price_median', 'price_min', 'price_std', 'tdiff_max', 'tdiff_mean', 'tdiff_median', 'tdiff_min', 'tdiff_std', 'tdiff_zeros', 'response_max', 'response_mean', 'response_median', 'response_min', 'response_std', 'auction_cnt', 'bids_cnt', 'country_cnt', 'device_cnt', 'ip_cnt', 'mean_bids_per_auction', 'url_cnt', 'tdiff_ip', 'ip_entropy', 'url_entropy', 'bidder_id', 'country_cnt_mean_auc']\n"
     ]
    }
   ],
   "source": [
    "from constants import *\n",
    "columns_list = list(new_feat.columns)\n",
    "clear_list = [item for item in columns_list if item not in categories and item not in countries_list and not item.startswith('day_')]\n",
    "print len(clear_list), len(categories), len(countries_list)\n",
    "print clear_list"
   ]
  },
  {
   "cell_type": "code",
   "execution_count": 3,
   "metadata": {},
   "outputs": [
    {
     "name": "stdout",
     "output_type": "stream",
     "text": [
      "['Unnamed: 0', 'auctions_won_cnt', 'price_max', 'price_mean', 'price_median', 'price_min', 'price_std', 'tdiff_max', 'tdiff_mean', 'tdiff_median', 'tdiff_min', 'tdiff_std', 'tdiff_zeros', 'response_max', 'response_mean', 'response_median', 'response_min', 'response_std', 'auction_cnt', 'bids_cnt', 'country_cnt', 'device_cnt', 'ip_cnt', 'mean_bids_per_auction', 'url_cnt', 'tdiff_ip', 'ip_entropy', 'url_entropy', 'bidder_id', 'country_cnt_mean_auc']\n"
     ]
    }
   ],
   "source": [
    "import pandas as pd\n",
    "new_all_feat = pd.read_csv('../new_all_feat.csv')\n",
    "print list(new_all_feat.columns)"
   ]
  },
  {
   "cell_type": "code",
   "execution_count": null,
   "metadata": {
    "collapsed": true
   },
   "outputs": [],
   "source": []
  }
 ],
 "metadata": {
  "kernelspec": {
   "display_name": "Python 2",
   "language": "python",
   "name": "python2"
  },
  "language_info": {
   "codemirror_mode": {
    "name": "ipython",
    "version": 2
   },
   "file_extension": ".py",
   "mimetype": "text/x-python",
   "name": "python",
   "nbconvert_exporter": "python",
   "pygments_lexer": "ipython2",
   "version": "2.7.13"
  }
 },
 "nbformat": 4,
 "nbformat_minor": 2
}
