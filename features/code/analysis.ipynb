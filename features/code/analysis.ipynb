{
 "cells": [
  {
   "cell_type": "code",
   "execution_count": 1,
   "metadata": {
    "collapsed": true
   },
   "outputs": [],
   "source": [
    "import pandas as pd\n",
    "import numpy as np\n",
    "bids = pd.read_csv('../data/bids.csv')\n",
    "train_bidders = pd.read_csv('../data/train.csv')"
   ]
  },
  {
   "cell_type": "code",
   "execution_count": 3,
   "metadata": {
    "collapsed": true
   },
   "outputs": [
    {
     "name": "stdout",
     "output_type": "stream",
     "text": [
      "<class 'pandas.core.frame.DataFrame'>\n",
      "RangeIndex: 7656334 entries, 0 to 7656333\n",
      "Data columns (total 9 columns):\n",
      "bid_id         int64\n",
      "bidder_id      object\n",
      "auction        object\n",
      "merchandise    object\n",
      "device         object\n",
      "time           int64\n",
      "country        object\n",
      "ip             object\n",
      "url            object\n",
      "dtypes: int64(2), object(7)\n",
      "memory usage: 525.7+ MB\n",
      "None\n",
      "\n",
      "<class 'pandas.core.frame.DataFrame'>\n",
      "RangeIndex: 2013 entries, 0 to 2012\n",
      "Data columns (total 4 columns):\n",
      "bidder_id          2013 non-null object\n",
      "payment_account    2013 non-null object\n",
      "address            2013 non-null object\n",
      "outcome            2013 non-null float64\n",
      "dtypes: float64(1), object(3)\n",
      "memory usage: 63.0+ KB\n",
      "None\n"
     ]
    }
   ],
   "source": [
    "# basic table info\n",
    "print bids.info()\n",
    "print\n",
    "print train_bidders.info()"
   ]
  },
  {
   "cell_type": "code",
   "execution_count": null,
   "metadata": {},
   "outputs": [],
   "source": [
    "# Analyze one specific auction, dominated by a robot!!!\n",
    "print train_bidders[train_bidders.bidder_id=='9655ccc7c0c193f1549475f02c54dce45kjw7']\n",
    "print bids[bids.auction=='00270'][bids.bidder_id=='9655ccc7c0c193f1549475f02c54dce45kjw7'][['time', 'ip', 'device', 'country']].sort_values('time')\n",
    "print bids[bids.auction=='00270'][['bidder_id', 'time', 'ip', 'country']].sort_values('time')"
   ]
  },
  {
   "cell_type": "code",
   "execution_count": 4,
   "metadata": {
    "collapsed": true
   },
   "outputs": [],
   "source": [
    "# remove useless info?\n",
    "labels = ['payment_account', 'address']\n",
    "train_bidders.drop(labels = labels, axis = 1, inplace = True)"
   ]
  },
  {
   "cell_type": "code",
   "execution_count": null,
   "metadata": {},
   "outputs": [],
   "source": [
    "bids_with_label = pd.merge(bids, train_bidders, on='bidder_id')\n",
    "print bids_with_label.info()\n",
    "robots = bids_with_label[bids_with_label['outcome']==1]\n",
    "human  = bids_with_label[bids_with_label['outcome']==0]\n",
    "print robots.info()\n",
    "print human.info()"
   ]
  },
  {
   "cell_type": "code",
   "execution_count": 13,
   "metadata": {},
   "outputs": [
    {
     "name": "stdout",
     "output_type": "stream",
     "text": [
      "(103,)\n",
      "(1910,)\n"
     ]
    }
   ],
   "source": [
    "robot_bidder_id = train_bidders[train_bidders['outcome']==1].bidder_id\n",
    "print robots_bidder_id.shape\n",
    "human_bidder_id = train_bidders[train_bidders['outcome']==0].bidder_id\n",
    "print human_bidder_id.shape"
   ]
  },
  {
   "cell_type": "code",
   "execution_count": null,
   "metadata": {},
   "outputs": [],
   "source": [
    "print bids.info()\n",
    "robot_bids = bids[bids['bidder_id'].isin(robot_bidder_id)]\n",
    "print robot_bids.info()\n",
    "human_bids = bids[bids['bidder_id'].isin(human_bidder_id)]\n",
    "print human_bids.info()\n",
    "useless_bids = bids[np.logical_not(bids['bidder_id'].isin(train_bidders.bidder_id))]\n",
    "print useless_bids.info()\n",
    "useful_bids = bids[bids['bidder_id'].isin(train_bidders.bidder_id)]\n",
    "print useful_bids.info()\n",
    "# useful_bids.to_csv('useful_bids.csv')\n",
    "useless_bids.to_csv('test_bids.csv')"
   ]
  },
  {
   "cell_type": "code",
   "execution_count": null,
   "metadata": {},
   "outputs": [],
   "source": [
    "def max_time_idx(group):\n",
    "    return group['time'].idxmax()\n",
    "idx = useful_bids.groupby('auction').apply(max_time_idx)\n",
    "print idx.shape\n",
    "\n",
    "last_bids = useful_bids.loc[idx]\n",
    "print last_bids.info()\n",
    "robot_last_bid_cnt = np.count_nonzero(last_bids['bidder_id'].isin(robot_bidder_id))\n",
    "human_last_bid_cnt = np.count_nonzero(last_bids['bidder_id'].isin(human_bidder_id))\n",
    "print robot_last_bid_cnt, robot_last_bid_cnt*1.0/robot_bids.shape[0]\n",
    "print human_last_bid_cnt, human_last_bid_cnt*1.0/human_bids.shape[0]"
   ]
  },
  {
   "cell_type": "code",
   "execution_count": 32,
   "metadata": {},
   "outputs": [
    {
     "name": "stdout",
     "output_type": "stream",
     "text": [
      "17.8349514563\n",
      "5.70837696335\n",
      "4004.03883495\n",
      "1392.0460733\n"
     ]
    }
   ],
   "source": [
    "print robot_last_bid_cnt *1.0 / robot_bidder_id.shape[0]\n",
    "print human_last_bid_cnt *1.0 / human_bidder_id.shape[0]\n",
    "print robot_bids.shape[0] * 1.0 / robot_bidder_id.shape[0]\n",
    "print human_bids.shape[0] *1.0 / human_bidder_id.shape[0]"
   ]
  },
  {
   "cell_type": "code",
   "execution_count": null,
   "metadata": {},
   "outputs": [],
   "source": [
    "# inspect payment_account and address, seems unable to probe into the hashed value\n",
    "train_bidders = pd.read_csv('../data/train.csv')\n",
    "print train_bidders.shape\n",
    "print train_bidders['payment_account'].unique().shape\n",
    "print train_bidders['address'].unique().shape"
   ]
  },
  {
   "cell_type": "code",
   "execution_count": 45,
   "metadata": {
    "collapsed": true
   },
   "outputs": [],
   "source": [
    "basic_info = pd.read_csv('basic_feat_per_bidder.csv')\n",
    "robot_basic_info = basic_info[basic_info.bidder_id.isin(robot_bidder_id)]\n",
    "human_basic_info = basic_info[basic_info.bidder_id.isin(human_bidder_id)]\n",
    "from constants import *"
   ]
  },
  {
   "cell_type": "code",
   "execution_count": 48,
   "metadata": {},
   "outputs": [
    {
     "name": "stdout",
     "output_type": "stream",
     "text": [
      "4004.03883495 1413.50770867\n",
      "145.038834951 58.0707070707\n",
      "23.1546719631 6.44152520881\n",
      "26.4757281553 12.6767676768\n",
      "163.611650485 73.9473684211\n",
      "2387.7961165 581.256246677\n",
      "544.582524272 335.187134503\n",
      "1.0 1.00053163211\n"
     ]
    }
   ],
   "source": [
    "print np.mean(robot_basic_info['bids_cnt']), np.mean(human_basic_info['bids_cnt'])\n",
    "print np.mean(robot_basic_info['auction_cnt']), np.mean(human_basic_info['auction_cnt'])\n",
    "print np.mean(robot_basic_info['mean_bids_per_auction']), np.mean(human_basic_info['mean_bids_per_auction'])\n",
    "print np.mean(robot_basic_info['country_cnt']), np.mean(human_basic_info['country_cnt'])\n",
    "print np.mean(robot_basic_info['device_cnt']), np.mean(human_basic_info['device_cnt'])\n",
    "print np.mean(robot_basic_info['ip_cnt']), np.mean(human_basic_info['ip_cnt'])\n",
    "print np.mean(robot_basic_info['url_cnt']), np.mean(human_basic_info['url_cnt'])\n",
    "print np.mean(robot_basic_info['merchandise_cnt']), np.mean(human_basic_info['merchandise_cnt'])"
   ]
  },
  {
   "cell_type": "code",
   "execution_count": null,
   "metadata": {},
   "outputs": [],
   "source": [
    "%matplotlib inline\n",
    "import matplotlib.pyplot as plt\n",
    "fig, ax = plt.subplots()\n",
    "\n",
    "tmp = robot_basic_info['bids_cnt'] * 1.0 * human_bidder_id.shape[0] / robot_bidder_id.shape[0]\n",
    "robot_bids_cnt_heights, robot_bids_cnt_bins = np.histogram(np.log(tmp))\n",
    "human_bids_cnt_heights, human_bids_cnt_bins = np.histogram(np.log(human_basic_info['bids_cnt']), bins=robot_bids_cnt_bins)\n",
    "\n",
    "width = (robot_bids_cnt_bins[1]-robot_bids_cnt_bins[0])/2\n",
    "ax.bar(robot_bids_cnt_bins[:-1], robot_bids_cnt_heights, width=width, facecolor='cornflowerblue')\n",
    "ax.bar(human_bids_cnt_bins[:-1]+width, human_bids_cnt_heights, width=width, facecolor='seagreen')\n",
    "print human_bids_cnt_heights, human_bids_cnt_bins\n",
    "print robot_bids_cnt_heights, robot_bids_cnt_bins"
   ]
  },
  {
   "cell_type": "code",
   "execution_count": 150,
   "metadata": {},
   "outputs": [
    {
     "name": "stdout",
     "output_type": "stream",
     "text": [
      "[533 384 294 249 178 132  67  31  10   3] [  0.           1.31519863   2.63039725   3.94559588   5.2607945\n",
      "   6.57599313   7.89119175   9.20639038  10.521589    11.83678763\n",
      "  13.15198626]\n",
      "[ 5  2  0  0 30 31 18 12  4  1] [  0.           1.19949503   2.39899006   3.59848509   4.79798012\n",
      "   5.99747515   7.19697018   8.39646521   9.59596024  10.79545527\n",
      "  11.9949503 ]\n"
     ]
    },
    {
     "data": {
      "image/png": "[encoded data removed]",
      "text/plain": [
       "<matplotlib.figure.Figure at 0x1f3da8ad0>"
      ]
     },
     "metadata": {},
     "output_type": "display_data"
    }
   ],
   "source": [
    "%matplotlib inline\n",
    "import matplotlib.pyplot as plt\n",
    "fig, ax = plt.subplots(1,2, figsize=(15,7))\n",
    "\n",
    "human_bids_cnt_heights, human_bids_cnt_bins = np.histogram(np.log(human_basic_info['bids_cnt']))\n",
    "ax[0].bar(human_bids_cnt_bins[:-1], human_bids_cnt_heights, facecolor='seagreen')\n",
    "ax[0].set_ylabel('bin height')\n",
    "ax[0].set_xlabel('log of bids_cnt')\n",
    "ax[0].set_title('bids_cnt histogram for human')\n",
    "print human_bids_cnt_heights, human_bids_cnt_bins\n",
    "\n",
    "robot_bids_cnt_heights, robot_bids_cnt_bins = np.histogram(np.log(robot_basic_info['bids_cnt']))\n",
    "ax[1].bar(robot_bids_cnt_bins[:-1], robot_bids_cnt_heights, facecolor='cornflowerblue')\n",
    "ax[1].set_ylabel('bin height')\n",
    "ax[1].set_xlabel('log of bids_cnt')\n",
    "ax[1].set_title('bids_cnt histogram for robots')\n",
    "print robot_bids_cnt_heights, robot_bids_cnt_bins\n",
    "fig.savefig('bids_cnt_hist.png')"
   ]
  },
  {
   "cell_type": "code",
   "execution_count": 67,
   "metadata": {},
   "outputs": [
    {
     "name": "stdout",
     "output_type": "stream",
     "text": [
      "[117 104  88  39   2   0   0   0   0   0] [ 2.92012953  3.43886811  3.95760669  4.47634527  4.99508386  5.51382244\n",
      "  6.03256102  6.5512996   7.07003818  7.58877676  8.10751534]\n",
      "[15  8 12  5 13  7 16 11 13  3] [ 2.92012953  3.43886811  3.95760669  4.47634527  4.99508386  5.51382244\n",
      "  6.03256102  6.5512996   7.07003818  7.58877676  8.10751534]\n"
     ]
    },
    {
     "data": {
      "image/png": "[encoded data removed]",
      "text/plain": [
       "<matplotlib.figure.Figure at 0x1099c9ed0>"
      ]
     },
     "metadata": {},
     "output_type": "display_data"
    }
   ],
   "source": [
    "%matplotlib inline\n",
    "import matplotlib.pyplot as plt\n",
    "fig, ax = plt.subplots()\n",
    "\n",
    "tmp = robot_basic_info['country_cnt'] * 1.0 * human_bidder_id.shape[0] / robot_bidder_id.shape[0]\n",
    "robot_bids_cnt_heights, robot_bids_cnt_bins = np.histogram(np.log(tmp))\n",
    "human_bids_cnt_heights, human_bids_cnt_bins = np.histogram(np.log(human_basic_info['country_cnt']), bins=robot_bids_cnt_bins)\n",
    "\n",
    "width = (robot_bids_cnt_bins[1]-robot_bids_cnt_bins[0])/2\n",
    "ax.bar(robot_bids_cnt_bins[:-1], robot_bids_cnt_heights, width=width, facecolor='cornflowerblue')\n",
    "ax.bar(human_bids_cnt_bins[:-1]+width, human_bids_cnt_heights, width=width, facecolor='seagreen')\n",
    "print human_bids_cnt_heights, human_bids_cnt_bins\n",
    "print robot_bids_cnt_heights, robot_bids_cnt_binsbids_cnt"
   ]
  },
  {
   "cell_type": "code",
   "execution_count": 102,
   "metadata": {},
   "outputs": [
    {
     "name": "stdout",
     "output_type": "stream",
     "text": [
      "[591 256 263 176 153 124 105 108  72  33] [ 0.          0.50998664  1.01997329  1.52995993  2.03994657  2.54993321\n",
      "  3.05991986  3.5699065   4.07989314  4.58987979  5.09986643]\n",
      "[15  8 12  5 13  7 16 11 13  3] [ 2.92012953  3.43886811  3.95760669  4.47634527  4.99508386  5.51382244\n",
      "  6.03256102  6.5512996   7.07003818  7.58877676  8.10751534]\n"
     ]
    },
    {
     "data": {
      "image/png": "[encoded data removed]",
      "text/plain": [
       "<matplotlib.figure.Figure at 0x10a634dd0>"
      ]
     },
     "metadata": {},
     "output_type": "display_data"
    }
   ],
   "source": [
    "%matplotlib inline\n",
    "import matplotlib.pyplot as plt\n",
    "fig, ax = plt.subplots(1,2)\n",
    "\n",
    "human_bids_cnt_heights, human_bids_cnt_bins = np.histogram(np.log(human_basic_info['country_cnt']))\n",
    "ax[0].bar(human_bids_cnt_bins[:-1], human_bids_cnt_heights, facecolor='seagreen')\n",
    "print human_bids_cnt_heights, human_bids_cnt_bins\n",
    "\n",
    "tmp = robot_basic_info['country_cnt'] * 1.0 * human_bidder_id.shape[0] / robot_bidder_id.shape[0]\n",
    "robot_bids_cnt_heights, robot_bids_cnt_bins = np.histogram(np.log(tmp))\n",
    "ax[1].bar(robot_bids_cnt_bins[:-1], robot_bids_cnt_heights, facecolor='cornflowerblue')\n",
    "print robot_bids_cnt_heights, robot_bids_cnt_bins"
   ]
  },
  {
   "cell_type": "code",
   "execution_count": 68,
   "metadata": {},
   "outputs": [
    {
     "name": "stdout",
     "output_type": "stream",
     "text": [
      "[179 149 134 122  87  35   6   1   0   0] [ 2.92012953  3.62435815  4.32858677  5.03281538  5.737044    6.44127262\n",
      "  7.14550124  7.84972985  8.55395847  9.25818709  9.9624157 ]\n",
      "[20  6  6  1  5 11 12 22 14  6] [ 2.92012953  3.62435815  4.32858677  5.03281538  5.737044    6.44127262\n",
      "  7.14550124  7.84972985  8.55395847  9.25818709  9.9624157 ]\n"
     ]
    },
    {
     "data": {
      "image/png": "[encoded data removed]",
      "text/plain": [
       "<matplotlib.figure.Figure at 0x109bb9e90>"
      ]
     },
     "metadata": {},
     "output_type": "display_data"
    }
   ],
   "source": [
    "%matplotlib inline\n",
    "import matplotlib.pyplot as plt\n",
    "fig, ax = plt.subplots()\n",
    "\n",
    "tmp = robot_basic_info['device_cnt'] * 1.0 * human_bidder_id.shape[0] / robot_bidder_id.shape[0]\n",
    "robot_bids_cnt_heights, robot_bids_cnt_bins = np.histogram(np.log(tmp))\n",
    "human_bids_cnt_heights, human_bids_cnt_bins = np.histogram(np.log(human_basic_info['device_cnt']), bins=robot_bids_cnt_bins)\n",
    "\n",
    "width = (robot_bids_cnt_bins[1]-robot_bids_cnt_bins[0])/2\n",
    "ax.bar(robot_bids_cnt_bins[:-1], robot_bids_cnt_heights, width=width, facecolor='cornflowerblue')\n",
    "ax.bar(human_bids_cnt_bins[:-1]+width, human_bids_cnt_heights, width=width, facecolor='seagreen')\n",
    "print human_bids_cnt_heights, human_bids_cnt_bins\n",
    "print robot_bids_cnt_heights, robot_bids_cnt_bins"
   ]
  },
  {
   "cell_type": "code",
   "execution_count": 103,
   "metadata": {},
   "outputs": [
    {
     "name": "stdout",
     "output_type": "stream",
     "text": [
      "[582 202 236 210 179 160 146 117  39  10] [ 0.          0.78701659  1.57403319  2.36104978  3.14806638  3.93508297\n",
      "  4.72209957  5.50911616  6.29613276  7.08314935  7.87016595]\n",
      "[20  6  6  1  5 11 12 22 14  6] [ 2.92012953  3.62435815  4.32858677  5.03281538  5.737044    6.44127262\n",
      "  7.14550124  7.84972985  8.55395847  9.25818709  9.9624157 ]\n"
     ]
    },
    {
     "data": {
      "image/png": "[encoded data removed]",
      "text/plain": [
       "<matplotlib.figure.Figure at 0x109debf10>"
      ]
     },
     "metadata": {},
     "output_type": "display_data"
    }
   ],
   "source": [
    "%matplotlib inline\n",
    "import matplotlib.pyplot as plt\n",
    "fig, ax = plt.subplots(1,2)\n",
    "\n",
    "human_bids_cnt_heights, human_bids_cnt_bins = np.histogram(np.log(human_basic_info['device_cnt']))\n",
    "ax[0].bar(human_bids_cnt_bins[:-1], human_bids_cnt_heights, facecolor='seagreen')\n",
    "print human_bids_cnt_heights, human_bids_cnt_bins\n",
    "\n",
    "tmp = robot_basic_info['device_cnt'] * 1.0 * human_bidder_id.shape[0] / robot_bidder_id.shape[0]\n",
    "robot_bids_cnt_heights, robot_bids_cnt_bins = np.histogram(np.log(tmp))\n",
    "ax[1].bar(robot_bids_cnt_bins[:-1], robot_bids_cnt_heights, facecolor='cornflowerblue')\n",
    "print robot_bids_cnt_heights, robot_bids_cnt_bins"
   ]
  },
  {
   "cell_type": "code",
   "execution_count": 69,
   "metadata": {},
   "outputs": [
    {
     "name": "stdout",
     "output_type": "stream",
     "text": [
      "[259 199 149 107  62  24   7   2   0   0] [  2.92012953   4.08268171   5.24523388   6.40778605   7.57033823\n",
      "   8.7328904    9.89544258  11.05799475  12.22054692  13.3830991\n",
      "  14.54565127]\n",
      "[16  4  6  5 23 23 14 10  1  1] [  2.92012953   4.08268171   5.24523388   6.40778605   7.57033823\n",
      "   8.7328904    9.89544258  11.05799475  12.22054692  13.3830991\n",
      "  14.54565127]\n"
     ]
    },
    {
     "data": {
      "image/png": "[encoded data removed]",
      "text/plain": [
       "<matplotlib.figure.Figure at 0x10a1d1590>"
      ]
     },
     "metadata": {},
     "output_type": "display_data"
    }
   ],
   "source": [
    "%matplotlib inline\n",
    "import matplotlib.pyplot as plt\n",
    "fig, ax = plt.subplots()\n",
    "\n",
    "tmp = robot_basic_info['ip_cnt'] * 1.0 * human_bidder_id.shape[0] / robot_bidder_id.shape[0]\n",
    "robot_bids_cnt_heights, robot_bids_cnt_bins = np.histogram(np.log(tmp))\n",
    "human_bids_cnt_heights, human_bids_cnt_bins = np.histogram(np.log(human_basic_info['ip_cnt']), bins=robot_bids_cnt_bins)\n",
    "\n",
    "width = (robot_bids_cnt_bins[1]-robot_bids_cnt_bins[0])/2\n",
    "ax.bar(robot_bids_cnt_bins[:-1], robot_bids_cnt_heights, width=width, facecolor='cornflowerblue')\n",
    "ax.bar(human_bids_cnt_bins[:-1]+width, human_bids_cnt_heights, width=width, facecolor='seagreen')\n",
    "print human_bids_cnt_heights, human_bids_cnt_bins\n",
    "print robot_bids_cnt_heights, robot_bids_cnt_bins"
   ]
  },
  {
   "cell_type": "code",
   "execution_count": 140,
   "metadata": {},
   "outputs": [
    {
     "name": "stdout",
     "output_type": "stream",
     "text": [
      "[610 318 276 237 168 127  86  40  16   3] [  0.           1.16005608   2.32011216   3.48016824   4.64022433\n",
      "   5.80028041   6.96033649   8.12039257   9.28044865  10.44050473\n",
      "  11.60056081]\n",
      "[16  4  6  5 23 23 14 10  1  1] [  2.92012953   4.08268171   5.24523388   6.40778605   7.57033823\n",
      "   8.7328904    9.89544258  11.05799475  12.22054692  13.3830991\n",
      "  14.54565127]\n"
     ]
    },
    {
     "data": {
      "image/png": "[encoded data removed]",
      "text/plain": [
       "<matplotlib.figure.Figure at 0x108a27f50>"
      ]
     },
     "metadata": {},
     "output_type": "display_data"
    }
   ],
   "source": [
    "%matplotlib inline\n",
    "import matplotlib.pyplot as plt\n",
    "fig, ax = plt.subplots(1,2)\n",
    "\n",
    "human_bids_cnt_heights, human_bids_cnt_bins = np.histogram(np.log(human_basic_info['ip_cnt']))\n",
    "ax[0].bar(human_bids_cnt_bins[:-1], human_bids_cnt_heights, facecolor='seagreen')\n",
    "ax[0].set_ylabel('bin height')\n",
    "ax[0].set_xlabel('log of ip_cnt')\n",
    "ax[0].set_title('ip_cnt histogram for human')\n",
    "print human_bids_cnt_heights, human_bids_cnt_bins\n",
    "\n",
    "tmp = robot_basic_info['ip_cnt'] * 1.0 * human_bidder_id.shape[0] / robot_bidder_id.shape[0]\n",
    "robot_bids_cnt_heights, robot_bids_cnt_bins = np.histogram(np.log(tmp))\n",
    "ax[1].bar(robot_bids_cnt_bins[:-1], robot_bids_cnt_heights, facecolor='cornflowerblue')\n",
    "print robot_bids_cnt_heights, robot_bids_cnt_bins"
   ]
  },
  {
   "cell_type": "code",
   "execution_count": 70,
   "metadata": {},
   "outputs": [
    {
     "name": "stdout",
     "output_type": "stream",
     "text": [
      "[153 143 107  64  52  25  17   8   3   1] [  2.92012953   3.82550988   4.73089024   5.63627059   6.54165094\n",
      "   7.44703129   8.35241164   9.25779199  10.16317234  11.0685527\n",
      "  11.97393305]\n",
      "[20 14  5  6  7 10 14 15  9  3] [  2.92012953   3.82550988   4.73089024   5.63627059   6.54165094\n",
      "   7.44703129   8.35241164   9.25779199  10.16317234  11.0685527\n",
      "  11.97393305]\n"
     ]
    },
    {
     "data": {
      "image/png": "[encoded data removed]",
      "text/plain": [
       "<matplotlib.figure.Figure at 0x1086d7990>"
      ]
     },
     "metadata": {},
     "output_type": "display_data"
    }
   ],
   "source": [
    "%matplotlib inline\n",
    "import matplotlib.pyplot as plt\n",
    "fig, ax = plt.subplots()\n",
    "\n",
    "tmp = robot_basic_info['url_cnt'] * 1.0 * human_bidder_id.shape[0] / robot_bidder_id.shape[0]\n",
    "robot_bids_cnt_heights, robot_bids_cnt_bins = np.histogram(np.log(tmp))\n",
    "human_bids_cnt_heights, human_bids_cnt_bins = np.histogram(np.log(human_basic_info['url_cnt']), bins=robot_bids_cnt_bins)\n",
    "\n",
    "width = (robot_bids_cnt_bins[1]-robot_bids_cnt_bins[0])/2\n",
    "ax.bar(robot_bids_cnt_bins[:-1], robot_bids_cnt_heights, width=width, facecolor='cornflowerblue')\n",
    "ax.bar(human_bids_cnt_bins[:-1]+width, human_bids_cnt_heights, width=width, facecolor='seagreen')\n",
    "print human_bids_cnt_heights, human_bids_cnt_bins\n",
    "print robot_bids_cnt_heights, robot_bids_cnt_bins"
   ]
  },
  {
   "cell_type": "code",
   "execution_count": 107,
   "metadata": {},
   "outputs": [
    {
     "name": "stdout",
     "output_type": "stream",
     "text": [
      "[875 290 224 186 139  73  54  25  11   4] [  0.           1.13068357   2.26136713   3.3920507    4.52273427\n",
      "   5.65341783   6.7841014    7.91478497   9.04546853  10.1761521\n",
      "  11.30683567]\n",
      "[20 14  5  6  7 10 14 15  9  3] [  2.92012953   3.82550988   4.73089024   5.63627059   6.54165094\n",
      "   7.44703129   8.35241164   9.25779199  10.16317234  11.0685527\n",
      "  11.97393305]\n"
     ]
    },
    {
     "data": {
      "image/png": "[encoded data removed]",
      "text/plain": [
       "<matplotlib.figure.Figure at 0x109a04f10>"
      ]
     },
     "metadata": {},
     "output_type": "display_data"
    }
   ],
   "source": [
    "%matplotlib inline\n",
    "import matplotlib.pyplot as plt\n",
    "fig, ax = plt.subplots(1,2)\n",
    "\n",
    "human_bids_cnt_heights, human_bids_cnt_bins = np.histogram(np.log(human_basic_info['url_cnt']))\n",
    "ax[0].bar(human_bids_cnt_bins[:-1], human_bids_cnt_heights, facecolor='seagreen')\n",
    "print human_bids_cnt_heights, human_bids_cnt_bins\n",
    "\n",
    "tmp = robot_basic_info['url_cnt'] * 1.0 * human_bidder_id.shape[0] / robot_bidder_id.shape[0]\n",
    "robot_bids_cnt_heights, robot_bids_cnt_bins = np.histogram(np.log(tmp))\n",
    "ax[1].bar(robot_bids_cnt_bins[:-1], robot_bids_cnt_heights, facecolor='cornflowerblue')\n",
    "print robot_bids_cnt_heights, robot_bids_cnt_bins"
   ]
  },
  {
   "cell_type": "code",
   "execution_count": 110,
   "metadata": {},
   "outputs": [
    {
     "name": "stdout",
     "output_type": "stream",
     "text": [
      "[1059  378  213  100   64   39   19    6    2    1] [ 0.          0.69309834  1.38619668  2.07929502  2.77239336  3.4654917\n",
      "  4.15859004  4.85168838  5.54478672  6.23788506  6.93098341]\n",
      "[ 5  4  8 23 26 24  8  1  1  3] [ 2.92012953  3.49851205  4.07689457  4.65527709  5.23365961  5.81204212\n",
      "  6.39042464  6.96880716  7.54718968  8.1255722   8.70395472]\n"
     ]
    },
    {
     "data": {
      "image/png": "[encoded data removed]",
      "text/plain": [
       "<matplotlib.figure.Figure at 0x10a0c9dd0>"
      ]
     },
     "metadata": {},
     "output_type": "display_data"
    }
   ],
   "source": [
    "%matplotlib inline\n",
    "import matplotlib.pyplot as plt\n",
    "fig, ax = plt.subplots(1,2)\n",
    "\n",
    "human_bids_cnt_heights, human_bids_cnt_bins = np.histogram(np.log(human_basic_info['mean_bids_per_auction']))\n",
    "ax[0].bar(human_bids_cnt_bins[:-1], human_bids_cnt_heights, facecolor='seagreen')\n",
    "print human_bids_cnt_heights, human_bids_cnt_bins\n",
    "\n",
    "tmp = robot_basic_info['mean_bids_per_auction'] * 1.0 * human_bidder_id.shape[0] / robot_bidder_id.shape[0]\n",
    "robot_bids_cnt_heights, robot_bids_cnt_bins = np.histogram(np.log(tmp))\n",
    "ax[1].bar(robot_bids_cnt_bins[:-1], robot_bids_cnt_heights, facecolor='cornflowerblue')\n",
    "print robot_bids_cnt_heights, robot_bids_cnt_bins"
   ]
  },
  {
   "cell_type": "code",
   "execution_count": 149,
   "metadata": {},
   "outputs": [
    {
     "name": "stdout",
     "output_type": "stream",
     "text": [
      "[534 190 237 236 209 166 139 101  53  16] [ 0.          0.73920316  1.47840631  2.21760947  2.95681263  3.69601578\n",
      "  4.43521894  5.1744221   5.91362525  6.65282841  7.39203157]\n",
      "[ 5  1  7  5 15 16 21 17  8  8] [ 2.92012953  3.61268905  4.30524857  4.99780809  5.69036761  6.38292713\n",
      "  7.07548665  7.76804617  8.46060569  9.15316521  9.84572473]\n"
     ]
    },
    {
     "data": {
      "image/png": "[encoded data removed]",
      "text/plain": [
       "<matplotlib.figure.Figure at 0x1b6edd1d0>"
      ]
     },
     "metadata": {},
     "output_type": "display_data"
    }
   ],
   "source": [
    "%matplotlib inline\n",
    "import matplotlib.pyplot as plt\n",
    "fig, ax = plt.subplots(1,2)\n",
    "\n",
    "human_bids_cnt_heights, human_bids_cnt_bins = np.histogram(np.log(human_basic_info['auction_cnt']))\n",
    "ax[0].bar(human_bids_cnt_bins[:-1], human_bids_cnt_heights, facecolor='seagreen')\n",
    "print human_bids_cnt_heights, human_bids_cnt_bins\n",
    "\n",
    "tmp = robot_basic_info['auction_cnt'] * 1.0 * human_bidder_id.shape[0] / robot_bidder_id.shape[0]\n",
    "robot_bids_cnt_heights, robot_bids_cnt_bins = np.histogram(np.log(tmp))\n",
    "ax[1].bar(robot_bids_cnt_bins[:-1], robot_bids_cnt_heights, facecolor='cornflowerblue')\n",
    "print robot_bids_cnt_heights, robot_bids_cnt_bins"
   ]
  },
  {
   "cell_type": "code",
   "execution_count": null,
   "metadata": {},
   "outputs": [],
   "source": [
    "%matplotlib inline\n",
    "import matplotlib.pyplot as plt\n",
    "fig, ax = plt.subplots(1,2)\n",
    "\n",
    "human_bids_cnt_heights, human_bids_cnt_bins = np.histogram(human_basic_info['merchandise_cnt'])\n",
    "ax[0].bar(human_bids_cnt_bins[:-1], human_bids_cnt_heights, facecolor='seagreen')\n",
    "print human_bids_cnt_heights, human_bids_cnt_bins\n",
    "\n",
    "tmp = robot_basic_info['merchandise_cnt'] * 1.0 * human_bidder_id.shape[0] / robot_bidder_id.shape[0]\n",
    "robot_bids_cnt_heights, robot_bids_cnt_bins = np.histogram(robot_basic_info['merchandise_cnt'])\n",
    "ax[1].bar(robot_bids_cnt_bins[:-1], robot_bids_cnt_heights, facecolor='cornflowerblue')\n",
    "print robot_bids_cnt_heights, robot_bids_cnt_bins\n",
    "\n",
    "print np.min(human_basic_info['merchandise_cnt']), np.max(human_basic_info['merchandise_cnt']), np.mean(human_basic_info['merchandise_cnt'])\n",
    "print np.min(robot_basic_info['merchandise_cnt']), np.max(robot_basic_info['merchandise_cnt']), np.mean(robot_basic_info['merchandise_cnt'])\n",
    "print human_basic_info[human_basic_info['merchandise_cnt'] == 2].shape"
   ]
  },
  {
   "cell_type": "code",
   "execution_count": 85,
   "metadata": {},
   "outputs": [
    {
     "name": "stdout",
     "output_type": "stream",
     "text": [
      " auto parts"
     ]
    },
    {
     "name": "stderr",
     "output_type": "stream",
     "text": [
      "/usr/local/lib/python2.7/site-packages/ipykernel_launcher.py:2: UserWarning: Boolean Series key will be reindexed to match DataFrame index.\n",
      "  \n"
     ]
    },
    {
     "name": "stdout",
     "output_type": "stream",
     "text": [
      " (0,) (2,)\n",
      "books and music (5,) (89,)\n",
      "clothing (0,) (5,)\n",
      "computers (5,) (30,)\n",
      "furniture (0,) (6,)\n",
      "home goods (13,) (176,)\n",
      "jewelry (13,) (364,)\n",
      "mobile (32,) (735,)\n",
      "office equipment (8,) (131,)\n",
      "sporting goods (27,) (344,)\n"
     ]
    }
   ],
   "source": [
    "for cat in categories:\n",
    "    print cat, bids[bids['merchandise']==cat][bids.bidder_id.isin(robot_bidder_id)]['bidder_id'].unique().shape, bids[bids['merchandise']==cat][bids.bidder_id.isin(human_bidder_id)]['bidder_id'].unique().shape"
   ]
  },
  {
   "cell_type": "code",
   "execution_count": null,
   "metadata": {
    "scrolled": false
   },
   "outputs": [],
   "source": [
    "for country in countries_list:\n",
    "    a = bids[np.logical_and(bids['country']==country, bids.bidder_id.isin(robot_bidder_id))]['bidder_id'].unique().shape[0]\n",
    "    b = bids[np.logical_and(bids['country']==country, bids.bidder_id.isin(human_bidder_id))]['bidder_id'].unique().shape[0]\n",
    "    ratio = (a * 1.0 / b if b != 0 else np.nan)\n",
    "    print country, a, b, ratio"
   ]
  },
  {
   "cell_type": "code",
   "execution_count": 119,
   "metadata": {},
   "outputs": [
    {
     "name": "stdout",
     "output_type": "stream",
     "text": [
      "0.0\n",
      "7.61029473684e+13\n",
      "[1799   31    0   11   15    0    1    6   11    7] [  0.           1.67356029   3.34712059   5.02068088   6.69424118\n",
      "   8.36780147  10.04136177  11.71492206  13.38848236  15.06204265\n",
      "  16.73560294]\n",
      "[97  4  0  1  0  0  0  0  0  1] [  0.           1.5474538    3.09490761   4.64236141   6.18981522\n",
      "   7.73726902   9.28472283  10.83217663  12.37963044  13.92708424\n",
      "  15.47453805]\n",
      "0.48594475861 0.0269097239797\n",
      "0.0182365842546 0.0012037037822\n"
     ]
    },
    {
     "data": {
      "image/png": "[encoded data removed]",
      "text/plain": [
       "<matplotlib.figure.Figure at 0x109e98f50>"
      ]
     },
     "metadata": {},
     "output_type": "display_data"
    }
   ],
   "source": [
    "tdiff_ip_df = pd.read_csv('tdiff_change_ip_feat_per_bidder.csv')\n",
    "\n",
    "one_day = 4547368124071.8799\n",
    "startt = 9631916820392676.0\n",
    "delta = 2.16e10\n",
    "cutoff = 1.5e8 #cutoff for \"small\" time scales\n",
    "\n",
    "print np.min(tdiff_ip_df['tdiff_ip'])\n",
    "print np.max(tdiff_ip_df['tdiff_ip'])\n",
    "\n",
    "tdiff_ip_df['tdiff_ip'] = tdiff_ip_df['tdiff_ip'] / one_day\n",
    "\n",
    "fig, ax = plt.subplots(1,2)\n",
    "\n",
    "human_heights, human_bins = np.histogram(tdiff_ip_df[tdiff_ip_df.bidder_id.isin(human_bidder_id)]['tdiff_ip'])\n",
    "ax[0].bar(human_bins[:-1], human_heights, facecolor='seagreen')\n",
    "print human_heights, human_bins\n",
    "\n",
    "tmp = tdiff_ip_df[tdiff_ip_df.bidder_id.isin(robot_bidder_id)]['tdiff_ip'] * 1.0 * human_bidder_id.shape[0] / robot_bidder_id.shape[0]\n",
    "robot_heights, robot_bins = np.histogram(tmp)\n",
    "ax[1].bar(robot_bins[:-1], robot_heights, facecolor='cornflowerblue')\n",
    "print robot_heights, robot_bins\n",
    "\n",
    "print np.mean(tdiff_ip_df[tdiff_ip_df.bidder_id.isin(human_bidder_id)]['tdiff_ip']), np.median(tdiff_ip_df[tdiff_ip_df.bidder_id.isin(human_bidder_id)]['tdiff_ip'])\n",
    "print np.mean(tdiff_ip_df[tdiff_ip_df.bidder_id.isin(robot_bidder_id)]['tdiff_ip']), np.median(tdiff_ip_df[tdiff_ip_df.bidder_id.isin(robot_bidder_id)]['tdiff_ip'])"
   ]
  },
  {
   "cell_type": "code",
   "execution_count": 124,
   "metadata": {},
   "outputs": [
    {
     "name": "stdout",
     "output_type": "stream",
     "text": [
      "0.0068756533157 44639.9931243\n",
      "0.0 15840.0177012\n"
     ]
    }
   ],
   "source": [
    "bids = pd.read_csv('../data/bids.csv')\n",
    "bids['time'] = (bids['time'] - startt) / one_day * 1440\n",
    "print np.min(bids['time']), np.max(bids['time'])\n",
    "tdiff = np.ediff1d(bids.sort_values(['time'])['time'])\n",
    "print np.min(tdiff), np.max(tdiff)"
   ]
  },
  {
   "cell_type": "code",
   "execution_count": 126,
   "metadata": {},
   "outputs": [
    {
     "name": "stdout",
     "output_type": "stream",
     "text": [
      "<class 'pandas.core.frame.DataFrame'>\n",
      "Index: 6614 entries, 001068c415025a009fee375a12cff4fcnht8y to fff2c070d8200e0a09150bd81452ce29ngcnv\n",
      "Data columns (total 1 columns):\n",
      "0    6614 non-null float64\n",
      "dtypes: float64(1)\n",
      "memory usage: 103.3+ KB\n",
      "None\n"
     ]
    }
   ],
   "source": [
    "def country_among_auction_per_bidder(group):\n",
    "    return pd.Series(group['country'].unique().shape[0])\n",
    "    \n",
    "bids_g_bidder_auction = bids.groupby(['bidder_id', 'auction'])\n",
    "    \n",
    "country_per_auction_per_bidder = bids_g_bidder_auction.apply(country_among_auction_per_bidder)\n",
    "country_per_auction_per_bidder = country_per_auction_per_bidder.groupby('bidder_id').mean()\n",
    "print country_per_auction_per_bidder.info()"
   ]
  },
  {
   "cell_type": "code",
   "execution_count": 128,
   "metadata": {},
   "outputs": [
    {
     "name": "stdout",
     "output_type": "stream",
     "text": [
      "[6566   32    9    2    2    0    1    1    0    1] [  1.           2.90833333   4.81666667   6.725        8.63333333\n",
      "  10.54166667  12.45        14.35833333  16.26666667  18.175       20.08333333]\n",
      "[1857   13    5    2    1    0    1    1    0    1] [  1.           2.90833333   4.81666667   6.725        8.63333333\n",
      "  10.54166667  12.45        14.35833333  16.26666667  18.175       20.08333333]\n",
      "[73 18  5  5  0  1  0  0  0  1] [ 1.          1.28571429  1.57142857  1.85714286  2.14285714  2.42857143\n",
      "  2.71428571  3.          3.28571429  3.57142857  3.85714286]\n"
     ]
    },
    {
     "data": {
      "image/png": "[encoded data removed]",
      "text/plain": [
       "<matplotlib.figure.Figure at 0x10a942d50>"
      ]
     },
     "metadata": {},
     "output_type": "display_data"
    },
    {
     "data": {
      "image/png": "[encoded data removed]",
      "text/plain": [
       "<matplotlib.figure.Figure at 0x10a8d1b50>"
      ]
     },
     "metadata": {},
     "output_type": "display_data"
    }
   ],
   "source": [
    "country_per_auction_per_bidder.columns = ['country_cnt_mean_auc']\n",
    "fig, ax = plt.subplots()\n",
    "heights, bins = np.histogram(country_per_auction_per_bidder['country_cnt_mean_auc'])\n",
    "ax.bar(bins[:-1], heights, facecolor='seagreen')\n",
    "print heights, bins\n",
    "\n",
    "fig, ax = plt.subplots(1,2)\n",
    "\n",
    "human_heights, human_bins = np.histogram(country_per_auction_per_bidder[country_per_auction_per_bidder.index.isin(human_bidder_id)]['country_cnt_mean_auc'])\n",
    "ax[0].bar(human_bins[:-1], human_heights, facecolor='seagreen')\n",
    "print human_heights, human_bins\n",
    "\n",
    "tmp = country_per_auction_per_bidder[country_per_auction_per_bidder.index.isin(robot_bidder_id)]['country_cnt_mean_auc']\n",
    "robot_heights, robot_bins = np.histogram(tmp)\n",
    "ax[1].bar(robot_bins[:-1], robot_heights, facecolor='cornflowerblue')\n",
    "print robot_heights, robot_bins\n",
    "\n",
    "# [country_per_auction_per_bidder.index.isin(human_bidder_id)]\n",
    "# print np.count_nonzero(country_per_auction_per_bidder != 1)\n",
    "# print country_per_auction_per_bidder\n",
    "# print np.count_nonzero(country_per_auction_per_bidder != 1)\n",
    "# print np.count_nonzero(country_per_auction_per_bidder != 1)"
   ]
  },
  {
   "cell_type": "code",
   "execution_count": 129,
   "metadata": {
    "collapsed": true
   },
   "outputs": [],
   "source": [
    "country_per_auction_per_bidder.to_csv('country_cnt_per_auction_per_bidder.csv')"
   ]
  },
  {
   "cell_type": "code",
   "execution_count": 138,
   "metadata": {},
   "outputs": [
    {
     "name": "stdout",
     "output_type": "stream",
     "text": [
      "10411.2466217 22.5521638531 463\n",
      "32869.0149075 3128.57090094 11\n"
     ]
    }
   ],
   "source": [
    "entropy_feat = pd.read_csv('entropy_feat_per_bidder.csv')\n",
    "\n",
    "human_ip_entropy = entropy_feat[entropy_feat.bidder_id.isin(human_bidder_id)]['ip_entropy']\n",
    "robot_ip_entropy = entropy_feat[entropy_feat.bidder_id.isin(robot_bidder_id)]['ip_entropy']\n",
    "print np.mean(human_ip_entropy), np.median(human_ip_entropy), np.count_nonzero(human_ip_entropy==0.0)\n",
    "print np.mean(robot_ip_entropy), np.median(robot_ip_entropy), np.count_nonzero(robot_ip_entropy==0.0)\n"
   ]
  },
  {
   "cell_type": "code",
   "execution_count": null,
   "metadata": {
    "collapsed": true
   },
   "outputs": [],
   "source": []
  }
 ],
 "metadata": {
  "kernelspec": {
   "display_name": "Python 2",
   "language": "python",
   "name": "python2"
  },
  "language_info": {
   "codemirror_mode": {
    "name": "ipython",
    "version": 2
   },
   "file_extension": ".py",
   "mimetype": "text/x-python",
   "name": "python",
   "nbconvert_exporter": "python",
   "pygments_lexer": "ipython2",
   "version": "2.7.13"
  }
 },
 "nbformat": 4,
 "nbformat_minor": 2
}
